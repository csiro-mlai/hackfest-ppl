{
 "cells": [
  {
   "cell_type": "markdown",
   "metadata": {
    "pycharm": {
     "name": "#%% md\n"
    }
   },
   "source": [
    "Pyro distributions accept and return Pytorch tensors, which have a `shape`.\n",
    "However, when dealing with the distributions themselves, there are several\n",
    "`shape`s to keep in mind: `event_shape`, `batch_shape`, and `sample_shape`."
   ]
  },
  {
   "cell_type": "code",
   "execution_count": null,
   "metadata": {
    "pycharm": {
     "name": "#%%\n"
    }
   },
   "outputs": [],
   "source": [
    "import matplotlib.pyplot as plt\n",
    "import pyro\n",
    "import pyro.distributions as dist\n",
    "import torch\n",
    "\n",
    "from pyro import poutine"
   ]
  },
  {
   "cell_type": "markdown",
   "metadata": {},
   "source": [
    "`event_shape` can be thought of as the shape of a single event or draw from the\n",
    "distribution. The general rule is that a distribution over tensors of order `n`\n",
    "have an `event_shape` that is an n-tuple. A univariate distribution\n",
    "(e.g. `Normal`) is distributed over a single variable, which can be considered\n",
    "a tensor of order `0`. Hence, such distributions have an empty `event_shape`.\n",
    "Multivariate distributions over vectors of variables (e.g. `MultivariateNormal`)\n",
    "have an `event_shape` that is a 1-tuple, since vectors are tensors of order `1`.\n",
    "Distributions over matrices of variables (e.g. `LKJ`) have 2-tuple\n",
    "`event_shape`s, and so forth."
   ]
  },
  {
   "cell_type": "code",
   "execution_count": null,
   "metadata": {
    "pycharm": {
     "name": "#%%\n"
    }
   },
   "outputs": [],
   "source": [
    "print(dist.Normal(torch.zeros(5), torch.ones(5)).event_shape)\n",
    "print(dist.MultivariateNormal(torch.zeros(5), torch.eye(5)).event_shape)\n",
    "print(dist.LKJ(5).event_shape)"
   ]
  },
  {
   "cell_type": "markdown",
   "metadata": {},
   "source": [
    "This may seem trivial when you're only drawing a single sample, but when you're\n",
    "drawing multiple batches of samples in parallel (which is easy with pyro), the\n",
    "`event_shape` has a special meaning: it represents the shape of the dependent\n",
    "random variables in the draw. If we sample from a multivariate distribution,\n",
    "variables that are part of the same event (i.e. samples where the index differs\n",
    "only in the rightmost `len(event_shape)` dimensions) are dependent on each\n",
    "other, whereas variables belonging to different events (i.e. samples where the\n",
    "index differs outside the rightmost `len(event_shape)` dimensions) are\n",
    "independent"
   ]
  },
  {
   "cell_type": "code",
   "execution_count": null,
   "metadata": {
    "pycharm": {
     "name": "#%%\n"
    }
   },
   "outputs": [],
   "source": [
    "cov = torch.rand(5,5).abs()\n",
    "cov = torch.mm(cov, cov.t()) + 0.01 * torch.eye(5)\n",
    "d = dist.MultivariateNormal(torch.zeros(2,5), torch.tile(cov, (2,1,1)))\n",
    "print(f\"event shape: {d.event_shape}\")\n",
    "s = d.sample((100000,))\n",
    "cond_s = s[s[:,0,0] > 1.]\n",
    "plt.hist(s[:,0,1].cpu().numpy(), bins=100, density=True, color=\"red\", alpha=0.5)\n",
    "plt.hist(cond_s[:,0,1].cpu().numpy(), bins=100, density=True, color=\"blue\", alpha=0.5)\n",
    "plt.show()\n",
    "\n",
    "plt.hist(s[:,1,1].cpu().numpy(), bins=100, density=True, color=\"red\", alpha=0.5)\n",
    "plt.hist(cond_s[:,1,1].cpu().numpy(), bins=100, density=True, color=\"blue\", alpha=0.5)\n",
    "plt.show()"
   ]
  },
  {
   "cell_type": "markdown",
   "metadata": {},
   "source": [
    "In the above, we sample from 2 i.i.d. multivariate Gaussians with 5\n",
    "dimensions each. The `1st` dimension of the `1st` Gaussian depends on the `0th`\n",
    "dimension (top plot) but the `1st` dimension of the `2nd` Gaussian is\n",
    "independent of the `0th` dimension of the `1st` Gaussian.\n",
    "\n",
    "In contrast, `batch_shape` represents the conditionally independent RVs. For\n",
    "example, the `MultivariateNormal` created above has a `batch_shape` of 2."
   ]
  },
  {
   "cell_type": "code",
   "execution_count": null,
   "metadata": {
    "pycharm": {
     "name": "#%%\n"
    }
   },
   "outputs": [],
   "source": [
    "print(d.batch_shape)\n"
   ]
  },
  {
   "cell_type": "markdown",
   "metadata": {
    "pycharm": {
     "name": "#%% md\n"
    }
   },
   "source": [
    "This is because the mean vector and covariance matrix used to construct the\n",
    "distribution had shapes `(2,5)` and `(2,5,5)`, respectively. The batch\n",
    "dimensions don't have to be identically distributed."
   ]
  },
  {
   "cell_type": "code",
   "execution_count": null,
   "metadata": {
    "pycharm": {
     "name": "#%%\n"
    }
   },
   "outputs": [],
   "source": [
    "m1 = torch.zeros(5)\n",
    "cov1 = torch.rand(5,5).abs()\n",
    "cov1 = torch.mm(cov1, cov1.t()) + 0.01 * torch.eye(5)\n",
    "m2 = torch.ones(5)\n",
    "cov2 = torch.rand(5,5).abs()\n",
    "cov2 = torch.mm(cov2, cov2.t()) + 0.01 * torch.eye(5)\n",
    "d = dist.MultivariateNormal(torch.stack([m1, m2]), torch.stack([cov1, cov2]))\n",
    "\n",
    "s = d.sample((100000,))\n",
    "print(s.shape)\n",
    "plt.hist(s[:, 0, 0].cpu().numpy(), bins=100, color=\"red\", alpha=0.5)\n",
    "plt.hist(s[:, 1, 0].cpu().numpy(), bins=100, color=\"blue\", alpha=0.5)\n",
    "plt.show()\n"
   ]
  },
  {
   "cell_type": "markdown",
   "metadata": {},
   "source": [
    "Finally, note that when we call the `sample` method we pass a `sample_shape`.\n",
    "This represents a tensor of i.i.d. samples drawn from the distribution."
   ]
  },
  {
   "cell_type": "code",
   "execution_count": null,
   "metadata": {
    "pycharm": {
     "name": "#%%\n"
    }
   },
   "outputs": [],
   "source": [
    "plt.hist(s[:50000, 0, 0].cpu().numpy(), bins=100, color=\"red\", alpha=0.5)\n",
    "plt.hist(s[50000:, 0, 0].cpu().numpy(), bins=100, color=\"blue\", alpha=0.5)\n",
    "plt.show()"
   ]
  },
  {
   "cell_type": "markdown",
   "metadata": {},
   "source": [
    "The shape of a sample is the concatenation of `event_shape`, `batch_shape`, and\n",
    "`sample_shape`. The shape of `log_prob`, on the other hand, is the concatenation\n",
    "of `sample_shape` and `batch_shape`, since the PDF is defined over entire\n",
    "events and not individual dimensions of them. As far as we can tell, pyro does\n",
    "not support getting conditional probabilities for that are conditioned on some\n",
    "variables of a multivariate distribution.\n"
   ]
  },
  {
   "cell_type": "code",
   "execution_count": null,
   "metadata": {
    "pycharm": {
     "name": "#%%\n"
    }
   },
   "outputs": [],
   "source": [
    "sample_shape = (100, 15)\n",
    "s = d.sample(sample_shape)\n",
    "assert(s.shape == sample_shape + d.batch_shape + d.event_shape)\n",
    "assert(d.log_prob(s).shape == sample_shape + d.batch_shape)"
   ]
  }
 ],
 "metadata": {
  "kernelspec": {
   "display_name": "Python 3",
   "language": "python",
   "name": "python3"
  },
  "language_info": {
   "codemirror_mode": {
    "name": "ipython",
    "version": 2
   },
   "file_extension": ".py",
   "mimetype": "text/x-python",
   "name": "python",
   "nbconvert_exporter": "python",
   "pygments_lexer": "ipython2",
   "version": "2.7.6"
  }
 },
 "nbformat": 4,
 "nbformat_minor": 0
}
