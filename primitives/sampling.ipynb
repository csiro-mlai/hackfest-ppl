{
 "cells": [
  {
   "cell_type": "markdown",
   "source": [
    "This notebook will introduce the basics of creating a pyro distribution and\n",
    "sampling from it. To begin with, we create the standard normal distribution."
   ],
   "metadata": {
    "collapsed": false,
    "pycharm": {
     "name": "#%% md\n"
    }
   }
  },
  {
   "cell_type": "code",
   "execution_count": 25,
   "metadata": {
    "collapsed": true
   },
   "outputs": [],
   "source": [
    "import numpy as np\n",
    "import torch\n",
    "import pyro\n",
    "\n",
    "pyro.set_rng_seed(100)\n",
    "mean = 0.\n",
    "var = 1.\n",
    "dist = pyro.distributions.Normal(mean, var)"
   ]
  },
  {
   "cell_type": "markdown",
   "source": [
    "So far there's nothing special about this. We could have created a Pytorch (or\n",
    "Tensorflow, etc.) distribution without needing a PPL library. Let's move on to\n",
    "sampling."
   ],
   "metadata": {
    "collapsed": false
   }
  },
  {
   "cell_type": "code",
   "execution_count": 6,
   "outputs": [
    {
     "name": "stdout",
     "output_type": "stream",
     "text": [
      "tensor(0.3607)\n"
     ]
    }
   ],
   "source": [
    "rv_name = \"standard_normal\"\n",
    "x = pyro.sample(rv_name, dist)\n",
    "print(x)"
   ],
   "metadata": {
    "collapsed": false,
    "pycharm": {
     "name": "#%%\n"
    }
   }
  },
  {
   "cell_type": "markdown",
   "source": [
    "Note that the `sample` function needs a `name` argument. The output of `sample`\n",
    "is called a *site*, and the name allows us to refer to the same site from\n",
    "separate pieces of code. We will see the usefulness of named sites later on.\n",
    "\n",
    "Sampling a standard normal isn't very interesting, so let's try something more complex."
   ],
   "metadata": {
    "collapsed": false,
    "pycharm": {
     "name": "#%% md\n"
    }
   }
  },
  {
   "cell_type": "code",
   "execution_count": 30,
   "outputs": [
    {
     "data": {
      "text/plain": "<Figure size 432x288 with 1 Axes>",
      "image/png": "[encoded data removed]"
     },
     "metadata": {
      "needs_background": "light"
     },
     "output_type": "display_data"
    }
   ],
   "source": [
    "def bimodal():\n",
    "    mode = pyro.sample('mode', pyro.distributions.Bernoulli(0.5))\n",
    "    mean = -1. if mode == 0. else 1.\n",
    "    var = 0.5\n",
    "    x = pyro.sample('sample', pyro.distributions.Normal(mean, var))\n",
    "    return x\n",
    "\n",
    "samples = np.stack([bimodal() for _ in range(10000)])\n",
    "import matplotlib.pyplot as plt\n",
    "\n",
    "plt.hist(samples, bins=100, density=True)\n",
    "plt.show()\n"
   ],
   "metadata": {
    "collapsed": false,
    "pycharm": {
     "name": "#%%\n"
    }
   }
  },
  {
   "cell_type": "markdown",
   "source": [
    "Here the function `bimodal` is a hierarchical statistical model. In the first\n",
    "level of the hierarchy it samples a `0` or `1` from Bernoulli. Then, it samples\n",
    "one of two Gaussians depending on the value samples from the Bernoulli. As we\n",
    "might expect, the result is equivalent to sampling from\n",
    "\n",
    "`0.5 * N(-1, 0.5) + 0.5 * N(1, 0.5)`"
   ],
   "metadata": {
    "collapsed": false
   }
  }
 ],
 "metadata": {
  "kernelspec": {
   "display_name": "Python 3",
   "language": "python",
   "name": "python3"
  },
  "language_info": {
   "codemirror_mode": {
    "name": "ipython",
    "version": 2
   },
   "file_extension": ".py",
   "mimetype": "text/x-python",
   "name": "python",
   "nbconvert_exporter": "python",
   "pygments_lexer": "ipython2",
   "version": "2.7.6"
  }
 },
 "nbformat": 4,
 "nbformat_minor": 0
}