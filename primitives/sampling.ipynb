{
 "cells": [
  {
   "cell_type": "markdown",
   "source": [
    "This notebook will introduce the basics of creating a pyro distribution and\n",
    "sampling from it. To begin with, we create the standard normal distribution."
   ],
   "metadata": {
    "collapsed": false,
    "pycharm": {
     "name": "#%% md\n"
    }
   }
  },
  {
   "cell_type": "code",
   "execution_count": 2,
   "metadata": {
    "collapsed": true
   },
   "outputs": [],
   "source": [
    "import matplotlib.pyplot as plt\n",
    "import pyro\n",
    "import numpy as np\n",
    "import torch\n",
    "\n",
    "pyro.set_rng_seed(100)\n",
    "mean = 0.\n",
    "var = 1.\n",
    "dist = pyro.distributions.Normal(mean, var)"
   ]
  },
  {
   "cell_type": "markdown",
   "source": [
    "So far there's nothing special about this. We could have created a Pytorch (or\n",
    "Tensorflow, etc.) distribution without needing a PPL library. Let's move on to\n",
    "sampling."
   ],
   "metadata": {
    "collapsed": false
   }
  },
  {
   "cell_type": "code",
   "execution_count": 3,
   "outputs": [
    {
     "name": "stdout",
     "output_type": "stream",
     "text": [
      "tensor(0.3607)\n"
     ]
    }
   ],
   "source": [
    "rv_name = \"standard_normal\"\n",
    "x = pyro.sample(rv_name, dist)\n",
    "print(x)"
   ],
   "metadata": {
    "collapsed": false,
    "pycharm": {
     "name": "#%%\n"
    }
   }
  },
  {
   "cell_type": "markdown",
   "source": [
    "Note that the `sample` function needs a `name` argument. The output of `sample`\n",
    "is called a *site*, and the name allows us to refer to the same site from\n",
    "separate pieces of code. We will see the usefulness of named sites later on.\n",
    "\n",
    "Sampling a standard normal isn't very interesting, so let's try something more complex."
   ],
   "metadata": {
    "collapsed": false,
    "pycharm": {
     "name": "#%% md\n"
    }
   }
  },
  {
   "cell_type": "code",
   "execution_count": 4,
   "outputs": [
    {
     "data": {
      "text/plain": "<Figure size 432x288 with 1 Axes>",
      "image/png": "[encoded data removed]"
     },
     "metadata": {
      "needs_background": "light"
     },
     "output_type": "display_data"
    }
   ],
   "source": [
    "def bimodal():\n",
    "    mode = pyro.sample('mode', pyro.distributions.Bernoulli(0.5))\n",
    "    mean = -1. if mode == 0. else 1.\n",
    "    var = 0.5\n",
    "    x = pyro.sample('sample', pyro.distributions.Normal(mean, var))\n",
    "    return x\n",
    "\n",
    "samples = np.stack([bimodal() for _ in range(10000)])\n",
    "\n",
    "plt.hist(samples, bins=100, density=True)\n",
    "plt.show()"
   ],
   "metadata": {
    "collapsed": false,
    "pycharm": {
     "name": "#%%\n"
    }
   }
  },
  {
   "cell_type": "markdown",
   "source": [
    "Here the function `bimodal` is a hierarchical statistical model. In the first\n",
    "level of the hierarchy it samples a `0` or `1` from Bernoulli. Then, it samples\n",
    "one of two Gaussians depending on the value samples from the Bernoulli. As we\n",
    "might expect, the result is equivalent to sampling from\n",
    "$$0.5 * \\mathcal{N}(-1, 0.5) + 0.5 * \\mathcal{N}(1, 0.5)$$\n",
    "\n",
    "This is still pretty static. Pyro gives us a lot of power to construct models\n",
    "dynamically and sample from them"
   ],
   "metadata": {
    "collapsed": false
   }
  },
  {
   "cell_type": "code",
   "execution_count": 8,
   "outputs": [
    {
     "data": {
      "text/plain": "<Figure size 432x288 with 1 Axes>",
      "image/png": "[encoded data removed]"
     },
     "metadata": {
      "needs_background": "light"
     },
     "output_type": "display_data"
    }
   ],
   "source": [
    "def multimodal(probits, n_samples, scale):\n",
    "    probits = probits.expand(n_samples, -1)\n",
    "    mode = pyro.sample('mode', pyro.distributions.Categorical(probits))\n",
    "    means = (mode - probits.shape[-1] / 2)\n",
    "    vars = scale * torch.ones_like(means)\n",
    "    x = pyro.sample('sample', pyro.distributions.Normal(means, vars))\n",
    "    return x\n",
    "\n",
    "def make_multimodal(max_modes):\n",
    "    n_modes = pyro.sample(\"n_modes\",\n",
    "                          pyro.distributions.Categorical(torch.ones(max_modes)))\n",
    "    n_modes += 1\n",
    "    probits = pyro.sample(\n",
    "        \"probits\",\n",
    "        pyro.distributions.Uniform(torch.zeros(n_modes), torch.ones(n_modes))\n",
    "    )\n",
    "    probits = torch.softmax(probits, dim=0)\n",
    "    fn = lambda n_samples, scale: multimodal(probits, n_samples, scale)\n",
    "    return fn\n",
    "\n",
    "samples = make_multimodal(10)(100000, 0.2)\n",
    "\n",
    "plt.hist(samples.cpu().numpy(), bins=500, density=True)\n",
    "plt.show()"
   ],
   "metadata": {
    "collapsed": false,
    "pycharm": {
     "name": "#%%\n"
    }
   }
  },
  {
   "cell_type": "markdown",
   "source": [
    "Here we used the higher order function `make_multimodal` to randomly sample the\n",
    "number of modes and their weights, and the inner function `multimodal` to sample\n",
    "a respective mixture of Gaussians. If  wanted, we could also pass the moments\n",
    "of the individual Gaussians to `multimodal`, or create any other hierarchical\n",
    "model of arbitrary depth and complexity. Feel free to play around and make your\n",
    "own models."
   ],
   "metadata": {
    "collapsed": false
   }
  }
 ],
 "metadata": {
  "kernelspec": {
   "display_name": "Python 3",
   "language": "python",
   "name": "python3"
  },
  "language_info": {
   "codemirror_mode": {
    "name": "ipython",
    "version": 2
   },
   "file_extension": ".py",
   "mimetype": "text/x-python",
   "name": "python",
   "nbconvert_exporter": "python",
   "pygments_lexer": "ipython2",
   "version": "2.7.6"
  }
 },
 "nbformat": 4,
 "nbformat_minor": 0
}