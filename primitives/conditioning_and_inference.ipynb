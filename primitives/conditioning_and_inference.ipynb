{
 "cells": [
  {
   "cell_type": "markdown",
   "metadata": {
    "collapsed": true,
    "pycharm": {
     "name": "#%% md\n"
    }
   },
   "source": [
    "A common use case in probabilistic programming is that we want to infer the\n",
    "likelihood that a certain random variable will take a specific value. Pyro lets\n",
    "us do this easily for any site."
   ]
  },
  {
   "cell_type": "code",
   "execution_count": 43,
   "outputs": [],
   "source": [
    "import matplotlib.pyplot as plt\n",
    "import pyro\n",
    "import pyro.distributions as dist\n",
    "import torch\n",
    "\n",
    "from pyro import poutine"
   ],
   "metadata": {
    "collapsed": false,
    "pycharm": {
     "name": "#%%\n"
    }
   }
  },
  {
   "cell_type": "markdown",
   "source": [
    "Suppose we want to weigh objects with a faulty\n",
    "scale that has some measurement noise. This follows a simple Gaussian model:\n",
    "\n",
    "$$ measurement | weight \\sim \\mathcal{N}(weight, 0.75) $$"
   ],
   "metadata": {
    "collapsed": false
   }
  },
  {
   "cell_type": "code",
   "execution_count": 44,
   "outputs": [
    {
     "name": "stdout",
     "output_type": "stream",
     "text": [
      "measurement: 8.308494567871094;\t probability: 0.48877593874931335\n"
     ]
    }
   ],
   "source": [
    "\n",
    "def make_dist(weight, noise):\n",
    "    return dist.Normal(weight, noise)\n",
    "\n",
    "weight, noise = 8, 0.75\n",
    "scale_dist = make_dist(weight, noise)\n",
    "measurement_1 = pyro.sample(\"measurement_1\", scale_dist)\n",
    "prob = scale_dist.log_prob(measurement_1).exp()\n",
    "print(f\"measurement: {measurement_1};\\t probability: {prob}\")\n"
   ],
   "metadata": {
    "collapsed": false,
    "pycharm": {
     "name": "#%%\n"
    }
   }
  },
  {
   "cell_type": "markdown",
   "source": [
    "Here we took an object with a true weight of 8 and got some noisy measurement.\n",
    "We then evaluated the probability of observing that measurement. We can easily\n",
    "use this functionality to plot the PDF of our faulty scale and the object."
   ],
   "metadata": {
    "collapsed": false
   }
  },
  {
   "cell_type": "code",
   "execution_count": 45,
   "outputs": [
    {
     "data": {
      "text/plain": "<Figure size 432x288 with 1 Axes>",
      "image/png": "[encoded data removed]"
     },
     "metadata": {
      "needs_background": "light"
     },
     "output_type": "display_data"
    }
   ],
   "source": [
    "lb = weight - noise * 4\n",
    "ub = weight + noise * 4\n",
    "resolution = 1000\n",
    "measurements = torch.arange(lb, ub, (ub - lb) / resolution)\n",
    "probs = scale_dist.log_prob(measurements).exp()\n",
    "plt.plot(measurements, probs, color=\"red\")\n",
    "ones = torch.ones(100000)\n",
    "multiscale_dist = make_dist(weight * ones, noise * ones)\n",
    "samples = pyro.sample(\"sample\", multiscale_dist)\n",
    "plt.hist(samples.cpu().numpy(), bins=100, density=True, color=\"blue\")\n",
    "plt.show()"
   ],
   "metadata": {
    "collapsed": false,
    "pycharm": {
     "name": "#%%\n"
    }
   }
  },
  {
   "cell_type": "markdown",
   "source": [
    "The PDF looks like a Gaussian centered at $x=8$, and lines up closely with the\n",
    "sample histogram. Now let's examine a more complicated model, where we have a\n",
    "good guess of the object's weight. Mathematically, this becomes\n",
    "\n",
    "$$ weight | guess \\sim \\mathcal{N}(guess, 1) $$\n",
    "\n",
    "$$ measurement | weight \\sim \\mathcal{N}(weight, 0.75) $$\n",
    "\n"
   ],
   "metadata": {
    "collapsed": false
   }
  },
  {
   "cell_type": "code",
   "execution_count": 46,
   "outputs": [],
   "source": [
    "def model_1(guess):\n",
    "   weight = pyro.sample(\"weight\", dist.Normal(guess, 1.0))\n",
    "   y = pyro.sample(\"measurement\", dist.Normal(weight, 0.75))\n",
    "   return y"
   ],
   "metadata": {
    "collapsed": false,
    "pycharm": {
     "name": "#%%\n"
    }
   }
  },
  {
   "cell_type": "markdown",
   "source": [
    "The `trace` class lets us maintain a trace of the entire model, so we can query\n",
    "the particular terms we care about without having to pass them around between\n",
    "different name space."
   ],
   "metadata": {
    "collapsed": false,
    "pycharm": {
     "name": "#%% md\n"
    }
   }
  },
  {
   "cell_type": "code",
   "execution_count": 47,
   "outputs": [
    {
     "name": "stdout",
     "output_type": "stream",
     "text": [
      "weight: 8.166380882263184, probability 0.3195088803768158\n",
      "measurement: 8.15375804901123, probability 0.5318477153778076\n"
     ]
    }
   ],
   "source": [
    "guess = torch.tensor(7.5)\n",
    "trace_1 = poutine.trace(model_1).get_trace(guess)\n",
    "trace_1.compute_log_prob()\n",
    "nodes =  trace_1.nodes\n",
    "print(f\"weight: {nodes['weight']['value']},\"\n",
    "      f\" probability {nodes['weight']['log_prob'].exp()}\")\n",
    "print(f\"measurement: {nodes['measurement']['value']},\"\n",
    "      f\" probability {nodes['measurement']['log_prob'].exp()}\")"
   ],
   "metadata": {
    "collapsed": false,
    "pycharm": {
     "name": "#%%\n"
    }
   }
  },
  {
   "cell_type": "markdown",
   "source": [
    "We can also condition the model to enforce that certain RVs will always have a\n",
    "specific value. This is done with the `condition` API."
   ],
   "metadata": {
    "collapsed": false,
    "pycharm": {
     "name": "#%% md\n"
    }
   }
  },
  {
   "cell_type": "code",
   "execution_count": 48,
   "outputs": [
    {
     "name": "stdout",
     "output_type": "stream",
     "text": [
      "weight: 7.18613862991333, probability 0.3797686696052551\n",
      "measurement: 9.5, probability 0.004560481756925583\n"
     ]
    }
   ],
   "source": [
    "cond_model = pyro.condition(model_1,\n",
    "                            data={\"measurement\": torch.tensor(9.5)})\n",
    "cond_trace = poutine.trace(cond_model).get_trace(guess)\n",
    "cond_trace.compute_log_prob()\n",
    "nodes = cond_trace.nodes\n",
    "print(f\"weight: {nodes['weight']['value']},\"\n",
    "      f\" probability {nodes['weight']['log_prob'].exp()}\")\n",
    "print(f\"measurement: {nodes['measurement']['value']},\"\n",
    "      f\" probability {nodes['measurement']['log_prob'].exp()}\")"
   ],
   "metadata": {
    "collapsed": false,
    "pycharm": {
     "name": "#%%\n"
    }
   }
  },
  {
   "cell_type": "markdown",
   "source": [
    "We conditioned the `measurement` RV to evaluate to `9.5` so it was not sampled\n",
    "from its respective distribution. Note, however, that this does not affect the\n",
    "probability of the observation. The probability returned by pyro is\n",
    "$p(measurement = 9.5 | \\mathcal{N}(weight, 0.75)$, and not `1`, even though\n",
    "there was a `100%` chance of `measurement` evaluating to `9.5`. Similarly, if\n",
    "remove the conditioning on `measurement`, we see that the likelihood of `weight`\n",
    "does not change, even though $p(weight | measurement) \\neq p(weight)$.\n"
   ],
   "metadata": {
    "collapsed": false,
    "pycharm": {
     "name": "#%% md\n"
    }
   }
  },
  {
   "cell_type": "code",
   "execution_count": 49,
   "outputs": [
    {
     "name": "stdout",
     "output_type": "stream",
     "text": [
      "tensor(7.1861) tensor(0.3798)\n",
      "tensor(7.1700) tensor(0.5318)\n"
     ]
    }
   ],
   "source": [
    "cond_model = pyro.condition(model_1,\n",
    "                            data={\"weight\": nodes[\"weight\"][\"value\"]})\n",
    "trace = poutine.trace(cond_model).get_trace(guess)\n",
    "trace.compute_log_prob()\n",
    "weight_node = trace.nodes[\"weight\"]\n",
    "print(weight_node[\"value\"], weight_node[\"log_prob\"].exp())\n",
    "\n",
    "measurement_node = trace.nodes[\"measurement\"]\n",
    "print(measurement_node[\"value\"], measurement_node[\"log_prob\"].exp())\n"
   ],
   "metadata": {
    "collapsed": false,
    "pycharm": {
     "name": "#%%\n"
    }
   }
  },
  {
   "cell_type": "markdown",
   "source": [
    "It's important to remember that the `condition` function does not actually\n",
    "change the underlying distribution of the RV. Think of it as saying \"let's\n",
    "pretend that we happend to sample `X` for this variable\". Hence, RVs upstream\n",
    "of the conditioned variable do not change their likelihood."
   ],
   "metadata": {
    "collapsed": false
   }
  }
 ],
 "metadata": {
  "kernelspec": {
   "display_name": "Python 3",
   "language": "python",
   "name": "python3"
  },
  "language_info": {
   "codemirror_mode": {
    "name": "ipython",
    "version": 2
   },
   "file_extension": ".py",
   "mimetype": "text/x-python",
   "name": "python",
   "nbconvert_exporter": "python",
   "pygments_lexer": "ipython2",
   "version": "2.7.6"
  }
 },
 "nbformat": 4,
 "nbformat_minor": 0
}