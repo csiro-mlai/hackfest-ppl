{
 "cells": [
  {
   "cell_type": "markdown",
   "metadata": {
    "pycharm": {
     "name": "#%% md\n"
    }
   },
   "source": [
    "Now that you've seen how pyro can be used to solve an inference problem with VI,\n",
    "try it for yourself!\n",
    "\n",
    "For this exercise we consider a model from behavioural economics for _Constant\n",
    "Elasticity of Substitution_, or CES for short. The parameters of the model are\n",
    "$\\rho, \\alpha, u$ and the input is $\\xi = {x, x\\prime}$ where $x$ and $x\\prime$\n",
    "are two baskets of goods such that $x, x\\prime \\in [0,100]^3$. The priors over\n",
    "the parameters are\n",
    "\n",
    "\\begin{aligned}\n",
    "&\\rho \\sim Beta(1,1)\\\\\n",
    "&\\alpha \\sim Dirichlet([1,1,1])\\\\\n",
    "\\log &(u) \\sim \\mathcal{N}(1,3)\n",
    "\\end{aligned}\n",
    "\n",
    "and the predictive model is\n",
    "\n",
    "\\begin{aligned}\n",
    "&U(x) = (\\sum_{i} x_i^\\rho\\alpha_i)^{\\frac{1}{\\rho}}\\\\\n",
    "&\\mu_\\eta = u \\dot (U(x) - U(x\\prime))\\\\\n",
    "&\\sigma_\\eta = 0.005 \\dot u \\dot (1 + ||x - x\\prime||) \\\\\n",
    "&\\eta \\sim \\mathcal{N}(\\mu_\\eta, \\sigma^2_\\eta)\\\\\n",
    "&y = sigmoid(\\eta)\n",
    "\\end{aligned}\n",
    "\n",
    "Use what you've learned from the `source_location` notebook to build a model\n",
    "in pyro, generate data, and infer the parameters of the data generating\n",
    "distribution."
   ]
  }
 ],
 "metadata": {
  "kernelspec": {
   "display_name": "Python 3",
   "language": "python",
   "name": "python3"
  },
  "language_info": {
   "codemirror_mode": {
    "name": "ipython",
    "version": 2
   },
   "file_extension": ".py",
   "mimetype": "text/x-python",
   "name": "python",
   "nbconvert_exporter": "python",
   "pygments_lexer": "ipython2",
   "version": "2.7.6"
  }
 },
 "nbformat": 4,
 "nbformat_minor": 0
}
