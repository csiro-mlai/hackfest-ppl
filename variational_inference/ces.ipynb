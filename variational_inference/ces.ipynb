{
 "cells": [
  {
   "cell_type": "markdown",
   "metadata": {
    "pycharm": {
     "name": "#%% md\n"
    }
   },
   "source": [
    "Now that you've seen how pyro can be used to solve an inference problem with VI,\n",
    "try it for yourself!\n",
    "\n",
    "For this exercise we consider a model from behavioural economics for _Constant\n",
    "Elasticity of Substitution_, or CES for short. The parameters of the model are\n",
    "$\\rho, \\alpha, u$ and the input is $\\xi = {x, x^\\prime}$ where $x$ and $x^\\prime$\n",
    "are two baskets of goods such that $x, x^\\prime \\in [0,100]^3$. The priors over\n",
    "the parameters are\n",
    "\n",
    "\\begin{aligned}\n",
    "&\\rho \\sim Beta(1,1)\\\\\n",
    "&\\alpha \\sim Dirichlet([1,1,1])\\\\\n",
    "\\log &(u) \\sim \\mathcal{N}(1,3)\n",
    "\\end{aligned}\n",
    "\n",
    "and the predictive model is\n",
    "\n",
    "\\begin{aligned}\n",
    "&U(x) = (\\sum_{i} x_i^\\rho\\alpha_i)^{\\frac{1}{\\rho}}\\\\\n",
    "&\\mu_\\eta = u \\cdot (U(x) - U(x^\\prime))\\\\\n",
    "&\\sigma_\\eta = 0.005 \\cdot u \\cdot (1 + ||x - x^\\prime||_2^2) \\\\\n",
    "&\\eta \\sim \\mathcal{N}(\\mu_\\eta, \\sigma^2_\\eta)\\\\\n",
    "&y = sigmoid(\\eta)\n",
    "\\end{aligned}\n",
    "\n",
    "Use what you've learned from the `source_location` notebook to build a model\n",
    "in pyro, generate data, and infer the parameters of the data generating\n",
    "distribution."
   ]
  },
  {
   "cell_type": "code",
   "execution_count": null,
   "metadata": {
    "pycharm": {
     "name": "#%%\n"
    }
   },
   "outputs": [],
   "source": [
    "import pyro\n",
    "import pyro.distributions as dist\n",
    "import torch\n",
    "\n",
    "from contextlib import ExitStack\n",
    "from pyro.contrib.util import iter_plates_to_shape, rexpand, rmv\n",
    "\n",
    "def make_ces_model(rho_concentration, alpha_concentration, slope_mu, slope_sigma, observation_sd,\n",
    "                   observation_label=\"y\"):\n",
    "    def ces_model(design):\n",
    "        batch_shape = design.shape[:-2]\n",
    "        with ExitStack() as stack:\n",
    "            for plate in iter_plates_to_shape(batch_shape):\n",
    "                stack.enter_context(plate)\n",
    "            rho_shape = batch_shape + (rho_concentration.shape[-1],)\n",
    "            rho = 0.01 + 0.99 * pyro.sample(\"rho\", dist.Dirichlet(rho_concentration.expand(rho_shape))).select(-1, 0)\n",
    "            alpha_shape = batch_shape + (alpha_concentration.shape[-1],)\n",
    "            alpha = pyro.sample(\"alpha\", dist.Dirichlet(alpha_concentration.expand(alpha_shape)))\n",
    "            slope = pyro.sample(\"slope\", dist.LogNormal(slope_mu.expand(batch_shape), slope_sigma.expand(batch_shape)))\n",
    "            rho, slope = rexpand(rho, design.shape[-2]), rexpand(slope, design.shape[-2])\n",
    "            d1, d2 = design[..., 0:3], design[..., 3:6]\n",
    "            U1rho = (rmv(d1.pow(rho.unsqueeze(-1)), alpha)).pow(1. / rho)\n",
    "            U2rho = (rmv(d2.pow(rho.unsqueeze(-1)), alpha)).pow(1. / rho)\n",
    "            mean = slope * (U1rho - U2rho)\n",
    "            sd = slope * observation_sd * (1 + torch.norm(d1 - d2, dim=-1, p=2))\n",
    "\n",
    "\n",
    "            emission_dist = dist.Normal(mean, sd).to_event(1)\n",
    "            y = pyro.sample(observation_label, emission_dist)\n",
    "            return torch.sigmoid(y)\n",
    "\n",
    "    return ces_model\n",
    "\n",
    "def elboguide(design, dim=10):\n",
    "    rho_concentration = pyro.param(\"rho_concentration\", torch.ones(dim, 1, 2),\n",
    "                                   constraint=torch.distributions.constraints.positive)\n",
    "    alpha_concentration = pyro.param(\"alpha_concentration\", torch.ones(dim, 1, 3),\n",
    "                                     constraint=torch.distributions.constraints.positive)\n",
    "    slope_mu = pyro.param(\"slope_mu\", torch.ones(dim, 1))\n",
    "    slope_sigma = pyro.param(\"slope_sigma\", 3. * torch.ones(dim, 1),\n",
    "                             constraint=torch.distributions.constraints.positive)\n",
    "    batch_shape = design.shape[:-2]\n",
    "    with ExitStack() as stack:\n",
    "        for plate in iter_plates_to_shape(batch_shape):\n",
    "            stack.enter_context(plate)\n",
    "        rho_shape = batch_shape + (rho_concentration.shape[-1],)\n",
    "        pyro.sample(\"rho\", dist.Dirichlet(rho_concentration.expand(rho_shape)))\n",
    "        alpha_shape = batch_shape + (alpha_concentration.shape[-1],)\n",
    "        pyro.sample(\"alpha\", dist.Dirichlet(alpha_concentration.expand(alpha_shape)))\n",
    "        pyro.sample(\"slope\", dist.LogNormal(slope_mu.expand(batch_shape),\n",
    "                                            slope_sigma.expand(batch_shape)))"
   ]
  }
 ],
 "metadata": {
  "kernelspec": {
   "display_name": "Python 3",
   "language": "python",
   "name": "python3"
  },
  "language_info": {
   "codemirror_mode": {
    "name": "ipython",
    "version": 2
   },
   "file_extension": ".py",
   "mimetype": "text/x-python",
   "name": "python",
   "nbconvert_exporter": "python",
   "pygments_lexer": "ipython2",
   "version": "2.7.6"
  }
 },
 "nbformat": 4,
 "nbformat_minor": 0
}
