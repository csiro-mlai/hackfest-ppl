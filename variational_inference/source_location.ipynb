{
 "cells": [
  {
   "cell_type": "markdown",
   "metadata": {
    "pycharm": {
     "name": "#%% md\n"
    }
   },
   "source": [
    "Here we demonstrate how pyro can be used to do inference on complex\n",
    "probabilistic models. We will examine a problem of locating signal sources in\n",
    "2 dimensions. We have 2 signal sources at unknown locations, and their signals\n",
    "superpose at any given point in space. For example, the signal strengths might\n",
    "look like so\n",
    "\n",
    "![signal_map](signal_map.png)\n",
    "\n",
    "\n",
    "\n"
   ]
  }
 ],
 "metadata": {
  "kernelspec": {
   "display_name": "Python 3",
   "language": "python",
   "name": "python3"
  },
  "language_info": {
   "codemirror_mode": {
    "name": "ipython",
    "version": 2
   },
   "file_extension": ".py",
   "mimetype": "text/x-python",
   "name": "python",
   "nbconvert_exporter": "python",
   "pygments_lexer": "ipython2",
   "version": "2.7.6"
  }
 },
 "nbformat": 4,
 "nbformat_minor": 0
}
