{
 "cells": [
  {
   "cell_type": "markdown",
   "metadata": {},
   "source": [
    "## Behind the scenes\n",
    "\n",
    "You probably don't care about this notebook; it just exports some data for the main notebooks"
   ]
  },
  {
   "cell_type": "code",
   "execution_count": null,
   "metadata": {},
   "outputs": [],
   "source": [
    "import h5py\n",
    "import numpy as np\n",
    "data = h5py.File('/scratch1/mac581/Data/PDE/navier-stokes/grf_forcing_mini_1.h5', 'r')\n",
    "\n",
    "BATCH_I = 0\n",
    "STEPS = 100"
   ]
  },
  {
   "cell_type": "code",
   "execution_count": null,
   "metadata": {},
   "outputs": [],
   "source": [
    "trimmed_x = data['valid']['u'][BATCH_I:BATCH_I+1,...,:STEPS]\n",
    "trimmed_latent = data['valid']['f'][BATCH_I:BATCH_I+1,...]\n",
    "\n",
    "np.savez_compressed(\n",
    "    './data/grf_forcing_single.npz',\n",
    "    u=trimmed_x,\n",
    "    f=trimmed_latent\n",
    ")\n"
   ]
  },
  {
   "cell_type": "code",
   "execution_count": null,
   "metadata": {},
   "outputs": [],
   "source": []
  }
 ],
 "metadata": {
  "interpreter": {
   "hash": "887521cc036c2176fc4c7c5fad660bcf5f9a9c2cadfc49851d28bf162a40070d"
  },
  "kernelspec": {
   "display_name": "Cadabra2",
   "language": "python",
   "name": "python3"
  },
  "language_info": {
   "codemirror_mode": {
    "name": "ipython",
    "version": 3
   },
   "file_extension": ".py",
   "mimetype": "text/x-python",
   "name": "python",
   "nbconvert_exporter": "python",
   "pygments_lexer": "ipython3",
   "version": "3.9.4"
  }
 },
 "nbformat": 4,
 "nbformat_minor": 4
}
