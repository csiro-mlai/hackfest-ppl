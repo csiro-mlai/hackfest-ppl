{
 "cells": [
  {
   "cell_type": "markdown",
   "metadata": {
    "pycharm": {
     "name": "#%% md\n"
    }
   },
   "source": [
    "For this challenge, we will use pyro to predict future covid-19 case numbers in\n",
    "Victoria. First, we need to get the data:"
   ]
  },
  {
   "cell_type": "code",
   "execution_count": null,
   "metadata": {},
   "outputs": [],
   "source": [
    "import pandas as pd\n",
    "import numpy as np\n",
    "from datetime import datetime\n",
    "\n",
    "def covidlive_data(start_date=np.datetime64('2021-06-10')):\n",
    "    df = pd.read_html('https://covidlive.com.au/report/daily-source-overseas/vic')[1]\n",
    "\n",
    "    df = df[:200]\n",
    "\n",
    "    if df['NET2'][0] == '-':\n",
    "        df = df[1:200]\n",
    "\n",
    "    dates = np.array(\n",
    "        [\n",
    "            np.datetime64(datetime.strptime(date, \"%d %b %y\"), 'D') - 1\n",
    "            for date in df['DATE']\n",
    "        ]\n",
    "    )\n",
    "    cases = np.array(df['NET2'].astype(int))\n",
    "    cases = cases[dates >= start_date][::-1]\n",
    "    dates = dates[dates >= start_date][::-1]\n",
    "\n",
    "    return dates, cases\n",
    "\n",
    "dates, cases = covidlive_data(np.datetime64('2021-08-01'))"
   ]
  },
  {
   "cell_type": "markdown",
   "metadata": {},
   "source": [
    "That gets use the dates (`dates`) and associated case numbers (`cases`) for each\n",
    "day since August 1. If you want to use a larger or smaller set of training data,\n",
    "you can pass a different start date to the `covidlive_data` function.\n",
    "\n",
    "Given this data, your task is to compute (independent) predictive distributions\n",
    "over the case numbers for the next 7 days (November 24 to November 30). At the\n",
    "end of those seven days, we will see whose distributions had the highest average\n",
    "likelihood.\n",
    "\n",
    "You may use any approach you wish to arrive at these predictive distributions:\n",
    "Markov Chain Monte Carlo, Variational Inference, Gaussian Processes, Bayesian\n",
    "Neural Networks, etc. All that matters is that your output is an iterable\n",
    "of 7 pyro distributions.\n",
    "\n",
    "Here are some ideas for possible approaches you can take:\n",
    "\n",
    "An [introduction to epidemiological modelling](http://pyro.ai/examples/epi_intro.html)\n",
    "From the Pyro documentation.\n",
    "\n",
    "A [Hamiltonian Monte Carlo example](http://pyro.ai/examples/sir_hmc.html), also\n",
    "from the pyro documentation.\n",
    "\n",
    "A [probabilistic regression example](https://chrisbillington.net/COVID_NSW.html)\n",
    "from Chris Billington.\n",
    "\n"
   ]
  }
 ],
 "metadata": {
  "kernelspec": {
   "display_name": "Python 3",
   "language": "python",
   "name": "python3"
  },
  "language_info": {
   "codemirror_mode": {
    "name": "ipython",
    "version": 2
   },
   "file_extension": ".py",
   "mimetype": "text/x-python",
   "name": "python",
   "nbconvert_exporter": "python",
   "pygments_lexer": "ipython2",
   "version": "2.7.6"
  }
 },
 "nbformat": 4,
 "nbformat_minor": 0
}
