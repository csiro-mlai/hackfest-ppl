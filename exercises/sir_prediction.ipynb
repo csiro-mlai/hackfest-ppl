{
 "cells": [
  {
   "cell_type": "code",
   "execution_count": null,
   "metadata": {
    "pycharm": {
     "is_executing": true
    }
   },
   "outputs": [],
   "source": [
    "import pandas as pd\n",
    "import numpy as np\n",
    "from datetime import datetime, timedelta\n",
    "\n",
    "def covidlive_data(start_date=np.datetime64('2021-06-10')):\n",
    "    df = pd.read_html('https://covidlive.com.au/report/daily-source-overseas/nsw')[1]\n",
    "\n",
    "    df = df[:200]\n",
    "\n",
    "    if df['NET2'][0] == '-':\n",
    "        df = df[1:200]\n",
    "\n",
    "    dates = np.array(\n",
    "        [\n",
    "            np.datetime64(datetime.strptime(date, \"%d %b %y\"), 'D') - 1\n",
    "            for date in df['DATE']\n",
    "        ]\n",
    "    )\n",
    "    cases = np.array(df['NET2'].astype(int))\n",
    "    cases = cases[dates >= start_date][::-1]\n",
    "    dates = dates[dates >= start_date][::-1]\n",
    "\n",
    "    return dates, cases\n",
    "\n",
    "base = datetime(2021, 8, 1)\n",
    "arr = np.array([base + timedelta(days=i) for i in range(90)])\n",
    "print(arr)\n",
    "dates, cases = covidlive_data(np.datetime64('2021-11-21'))\n",
    "print(dates)\n",
    "print(cases)"
   ]
  }
 ],
 "metadata": {
  "kernelspec": {
   "display_name": "Python 3",
   "language": "python",
   "name": "python3"
  },
  "language_info": {
   "codemirror_mode": {
    "name": "ipython",
    "version": 2
   },
   "file_extension": ".py",
   "mimetype": "text/x-python",
   "name": "python",
   "nbconvert_exporter": "python",
   "pygments_lexer": "ipython2",
   "version": "2.7.6"
  }
 },
 "nbformat": 4,
 "nbformat_minor": 0
}
