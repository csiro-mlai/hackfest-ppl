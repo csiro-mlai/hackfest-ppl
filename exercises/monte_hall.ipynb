{
 "cells": [
  {
   "cell_type": "markdown",
   "metadata": {
    "pycharm": {
     "name": "#%% md\n"
    }
   },
   "source": [
    "The Monty Hall problem is an infamous puzzle that challenges human intuition about\n",
    "probability. In its most well-known version, it was posed as follows:\n",
    "\n",
    ">Suppose you’re on a game show, and you’re given the choice of three doors:\n",
    ">Behind one door is a car; behind the others, goats. You pick a door, say No. 1,\n",
    ">and the host, who knows what’s behind the doors, opens another door, say No. 3,\n",
    ">which has a goat. He then says to you, “Do you want to pick door No. 2?” Is it\n",
    ">to your advantage to switch your choice?\n",
    "\n",
    "Famed mathematician Paul Erdős refused to accept any explanation or formal\n",
    "proof for this problem, and insisted on a seeing the results of a simulation.\n",
    "Your mission, if you choose to accept it, is to satisfy Erdős’s requirement.\n",
    "Take some time to think about your answer to the problem, then implement a\n",
    "Pyro model to justify your answer."
   ]
  },
  {
   "cell_type": "markdown",
   "metadata": {},
   "source": []
  }
 ],
 "metadata": {
  "kernelspec": {
   "display_name": "Python 3",
   "language": "python",
   "name": "python3"
  },
  "language_info": {
   "codemirror_mode": {
    "name": "ipython",
    "version": 2
   },
   "file_extension": ".py",
   "mimetype": "text/x-python",
   "name": "python",
   "nbconvert_exporter": "python",
   "pygments_lexer": "ipython2",
   "version": "2.7.6"
  }
 },
 "nbformat": 4,
 "nbformat_minor": 0
}
