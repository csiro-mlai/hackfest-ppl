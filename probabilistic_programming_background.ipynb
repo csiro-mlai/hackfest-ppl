{
 "cells": [
  {
   "cell_type": "markdown",
   "metadata": {},
   "source": [
    "# What is probabilistic programming? And why?\n",
    "\n",
    "A probabilistic programming system is a system for specifying stochastic generative models, and reasoning about them."
   ]
  },
  {
   "cell_type": "markdown",
   "metadata": {},
   "source": []
  },
  {
   "cell_type": "markdown",
   "metadata": {},
   "source": [
    "## Why `pyro`?\n",
    "\n",
    "There are [too many PPLs](https://en.wikipedia.org/wiki/Probabilistic_programming)!\n",
    "But pyro is the one that is probably closest to gaining critical mass.\n",
    "It is not the simplest one, but it _does_ integrate most of the hippest net techniques."
   ]
  },
  {
   "cell_type": "markdown",
   "metadata": {},
   "source": [
    "\n",
    "## references\n",
    "\n",
    "* [Bayes for Hackers](https://github.com/CamDavidsonPilon/Probabilistic-Programming-and-Bayesian-Methods-for-Hackers)\n",
    "* [Rob’s course](https://robsalomone.com/course-deep-probabilistic-models/) is nice and he has given us permission to use it if we credit him. - see also https://slides.com/robsal/autodiff/#/70\n",
    "* a neat [databricks example](https://databricks.com/blog/2021/06/29/using-bayesian-hierarchical-models-to-infer-the-disease-parameters-of-covid-19.html)\n",
    "\n",
    "Cheng recommends keeping an eye on [NeurIPS tutorials](https://blog.neurips.cc/2021/06/01/neurips-2021-tutorials/), and forward-referencing them.\n",
    "\n",
    "[Statistical Rethinking | Richard McElreath](https://xcelab.net/rm/statistical-rethinking/) has gone viral as an introduction to some of this stuff.\n",
    "It is [available on O’Reilly](https://learning.oreilly.com/library/view/statistical-rethinking-2nd/9780429639142/) (free for CSIRO people).\n",
    "There is a \n",
    "[PyMC3](https://github.com/gbosquechacon/statrethink_course_in_pymc3)\n",
    "[and a numpyro](https://github.com/asuagar/statrethink-course-in-numpyro/)\n",
    "version.\n",
    "\n",
    "Further references:\n",
    "\n",
    "* [that ppl guide](https://arxiv.org/abs/1809.10756) that Cheng found.\n",
    "\n",
    "\n",
    "## Links discussed\n",
    "\n",
    "* [Example: analyzing baseball stats with MCMC](http://pyro.ai/examples/baseball.html)\n",
    "* [Example: hierarchical mixed-effect hidden Markov models](http://pyro.ai/examples/mixed_hmm.html)\n",
    "* [Example: Inference with Markov Chain Monte Carlo](http://pyro.ai/examples/mcmc.html)\n",
    "* [Example: Sequential Monte Carlo Filtering](http://pyro.ai/examples/smcfilter.html)\n",
    "* [Example: Kalman Filter](http://pyro.ai/examples/ekf.html)\n",
    "* [Mini-Pyro](http://pyro.ai/examples/minipyro.html)"
   ]
  }
 ],
 "metadata": {
  "interpreter": {
   "hash": "887521cc036c2176fc4c7c5fad660bcf5f9a9c2cadfc49851d28bf162a40070d"
  },
  "kernelspec": {
   "display_name": "Cadabra2",
   "language": "python",
   "name": "python3"
  },
  "language_info": {
   "codemirror_mode": {
    "name": "ipython",
    "version": 3
   },
   "file_extension": ".py",
   "mimetype": "text/x-python",
   "name": "python",
   "nbconvert_exporter": "python",
   "pygments_lexer": "ipython3",
   "version": "3.9.7"
  }
 },
 "nbformat": 4,
 "nbformat_minor": 0
}
