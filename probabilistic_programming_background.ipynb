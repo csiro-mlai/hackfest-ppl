{
 "cells": [
  {
   "cell_type": "markdown",
   "metadata": {},
   "source": [
    "# What is probabilistic programming? And why?\n",
    "\n",
    "A probabilistic programming system is a system for specifying stochastic generative models, and reasoning about them.\n",
    "Or, as [Fabiana Clemente puts it](https://towardsdatascience.com/intro-to-probabilistic-programming-b47c4e926ec5)\n",
    "\n",
    "> Probabilistic programming is about doing statistics using the tools of computer science."
   ]
  },
  {
   "cell_type": "markdown",
   "metadata": {},
   "source": []
  },
  {
   "cell_type": "markdown",
   "metadata": {},
   "source": [
    "## Why `pyro`?\n",
    "\n",
    "There are [too many PPLs](https://en.wikipedia.org/wiki/Probabilistic_programming)!\n",
    "But pyro is the one that is probably closest to gaining critical mass.\n",
    "It is not the simplest one, but it _does_ integrate high quality versions of hip neural network methods into the classic PPL methods.\n",
    "It is built of pytorch, which many of us here already use.\n",
    "\n"
   ]
  },
  {
   "cell_type": "markdown",
   "metadata": {},
   "source": [
    "## Other PPLs\n",
    "\n",
    "* [Stan](https://mc-stan.org/) (R/Python/CLI/…)\n",
    "* [Turing.jl](https://turing.ml/stable/) (julia)\n",
    "* [Gen](https://www.gen.dev/) (julia)\n",
    "* [NumPyro documentation](http://num.pyro.ai/en/stable/) (jax)\n",
    "* [Edward2](https://github.com/google/edward2) (Tensorflow/Jax)\n",
    "* Why not write your own? Everyone else seems to.\n",
    "\n",
    "\n",
    "## References\n",
    "\n",
    "* Jan-Willem van de Meent, Brooks Paige, Hongseok Yang, Frank Wood, [An Introduction to Probabilistic Programming](https://arxiv.org/abs/1809.10756)\n",
    "* [Bayes for Hackers](https://github.com/CamDavidsonPilon/Probabilistic-Programming-and-Bayesian-Methods-for-Hackers)\n",
    "* [Rob Salomone’s course](https://robsalomone.com/course-deep-probabilistic-models/) is nice and he has given us permission to use it if we credit him. - see also https://slides.com/robsal/autodiff/#/70\n",
    "* [Statistical Rethinking | Richard McElreath](https://xcelab.net/rm/statistical-rethinking/) has gone viral as an introduction to some of this stuff.\n",
    "  It is [available on O’Reilly](https://learning.oreilly.com/library/view/statistical-rethinking-2nd/9780429639142/) (free for CSIRO people).\n",
    "  There is a \n",
    "  [PyMC3](https://github.com/gbosquechacon/statrethink_course_in_pymc3)\n",
    "  [and a numpyro](https://github.com/asuagar/statrethink-course-in-numpyro/) version.\n",
    "* Kevin Murphy, [Probabilistic Machine Learning: An Introduction](https://probml.github.io/pml-book/book1.html)\n",
    "* Wi Ji Ma, Konrad Paul Kording, Daniel Goldreich, [Bayesian models of perception and action](https://www.bayesianmodeling.com)\n",
    "* Noah D. Goodman, Joshua B. Tenenbaum et al, [Probabilistic Models of Cognition - 2nd Edition](http://probmods.org/)\n",
    "* Noah D. Goodman and Andreas Stuhlmüller, [The Design and Implementation of Probabilistic Programming Languages](http://dippl.org/)\n",
    "\n",
    "## Links discussed\n",
    "\n",
    "* a neat [databricks example](https://databricks.com/blog/2021/06/29/using-bayesian-hierarchical-models-to-infer-the-disease-parameters-of-covid-19.html)\n",
    "* [Example: analyzing baseball stats with MCMC](http://pyro.ai/examples/baseball.html)\n",
    "* [Example: hierarchical mixed-effect hidden Markov models](http://pyro.ai/examples/mixed_hmm.html)\n",
    "* [Example: Inference with Markov Chain Monte Carlo](http://pyro.ai/examples/mcmc.html)\n",
    "* [Example: Sequential Monte Carlo Filtering](http://pyro.ai/examples/smcfilter.html)\n",
    "* [Example: Kalman Filter](http://pyro.ai/examples/ekf.html)\n",
    "* [Mini-Pyro](http://pyro.ai/examples/minipyro.html)"
   ]
  },
  {
   "cell_type": "markdown",
   "metadata": {},
   "source": []
  }
 ],
 "metadata": {
  "interpreter": {
   "hash": "887521cc036c2176fc4c7c5fad660bcf5f9a9c2cadfc49851d28bf162a40070d"
  },
  "kernelspec": {
   "display_name": "Cadabra2",
   "language": "python",
   "name": "python3"
  },
  "language_info": {
   "codemirror_mode": {
    "name": "ipython",
    "version": 3
   },
   "file_extension": ".py",
   "mimetype": "text/x-python",
   "name": "python",
   "nbconvert_exporter": "python",
   "pygments_lexer": "ipython3",
   "version": "3.9.7"
  }
 },
 "nbformat": 4,
 "nbformat_minor": 0
}
